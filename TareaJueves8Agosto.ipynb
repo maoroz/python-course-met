{
 "cells": [
  {
   "cell_type": "code",
   "execution_count": 1,
   "metadata": {},
   "outputs": [],
   "source": [
    "class Persona(): \n",
    "    altura = \"\"\n",
    "    peso = \"\"\n",
    "    \n",
    "    def __init__(self, nombre, apellido):\n",
    "        self.nombre = nombre\n",
    "        self.apellido = apellido   \n",
    "    \n",
    "    def obtener_nombre_completo(self):\n",
    "        return f\"{self.nombre} {self.apellido}\""
   ]
  },
  {
   "cell_type": "code",
   "execution_count": 2,
   "metadata": {},
   "outputs": [
    {
     "ename": "TypeError",
     "evalue": "__init__() missing 2 required positional arguments: 'nombre' and 'apellido'",
     "output_type": "error",
     "traceback": [
      "\u001b[0;31m---------------------------------------------------------------------------\u001b[0m",
      "\u001b[0;31mTypeError\u001b[0m                                 Traceback (most recent call last)",
      "\u001b[0;32m<ipython-input-2-267060736763>\u001b[0m in \u001b[0;36m<module>\u001b[0;34m\u001b[0m\n\u001b[0;32m----> 1\u001b[0;31m \u001b[0mpersona\u001b[0m \u001b[0;34m=\u001b[0m \u001b[0mPersona\u001b[0m\u001b[0;34m(\u001b[0m\u001b[0;34m)\u001b[0m \u001b[0;31m# esto ahora falla porque faltan parámetros\u001b[0m\u001b[0;34m\u001b[0m\u001b[0;34m\u001b[0m\u001b[0m\n\u001b[0m",
      "\u001b[0;31mTypeError\u001b[0m: __init__() missing 2 required positional arguments: 'nombre' and 'apellido'"
     ]
    }
   ],
   "source": [
    "persona = Persona() # esto ahora falla porque faltan parámetros"
   ]
  },
  {
   "cell_type": "code",
   "execution_count": 3,
   "metadata": {},
   "outputs": [
    {
     "data": {
      "text/plain": [
       "'\\n__init__ :\\n    Se ejecuta inmediatamente luego de crear un objeto.\\n    El método __init__ no puede retornar dato.\\n    El método __init__ puede recibir parámetros que se utilizan normalmente para inicializar atributos.\\n    El método __init__ es un método opcional, de todos modos es muy común declararlo.\\n'"
      ]
     },
     "execution_count": 3,
     "metadata": {},
     "output_type": "execute_result"
    }
   ],
   "source": [
    "\"\"\"\n",
    "__init__ :\n",
    "    Se ejecuta inmediatamente luego de crear un objeto.\n",
    "    El método __init__ no puede retornar dato.\n",
    "    El método __init__ puede recibir parámetros que se utilizan normalmente para inicializar atributos.\n",
    "    El método __init__ es un método opcional, de todos modos es muy común declararlo.\n",
    "\"\"\""
   ]
  },
  {
   "cell_type": "code",
   "execution_count": 4,
   "metadata": {},
   "outputs": [],
   "source": [
    "persona = Persona(\"Pedro\", \"Perez\")"
   ]
  },
  {
   "cell_type": "code",
   "execution_count": 5,
   "metadata": {},
   "outputs": [
    {
     "data": {
      "text/plain": [
       "'Pedro Perez'"
      ]
     },
     "execution_count": 5,
     "metadata": {},
     "output_type": "execute_result"
    }
   ],
   "source": [
    "persona.obtener_nombre_completo()"
   ]
  },
  {
   "cell_type": "code",
   "execution_count": 6,
   "metadata": {},
   "outputs": [],
   "source": [
    "##  TAREA ##"
   ]
  },
  {
   "cell_type": "code",
   "execution_count": 7,
   "metadata": {},
   "outputs": [],
   "source": [
    "## Problema 1:\n",
    "\n",
    "# Confeccionar una clase que represente un empleado.\n",
    "\n",
    "#    Debe tener los atributos su nombre y su sueldo.\n",
    "#    En el método __init__ cargar los atributos (nombre, apellido y sueldo)\n",
    "#    En otro método imprimir sus datos (Pista: similiar a la clase Persona y el metodo obtener_nombre_completo pero debe incluir cuanto cobra)\n",
    "#    Por último uno que imprima un mensaje si debe pagar impuestos (si el sueldo supera a 3000)"
   ]
  },
  {
   "cell_type": "code",
   "execution_count": 8,
   "metadata": {},
   "outputs": [],
   "source": [
    "class Empleado(): \n",
    "\n",
    "    def __init__(self, nombre, apellido, sueldo):\n",
    "        self.nombre = nombre\n",
    "        self.apellido = apellido   \n",
    "        self.sueldo = sueldo\n",
    "    \n",
    "    def obtener_nombre_completo_y_sueldo(self):\n",
    "        return f\"{self.nombre} {self.apellido}, su sueldo es de: {self.sueldo}\"\n",
    "    \n",
    "    def obtener_impuestos(self):\n",
    "        if self.sueldo > 3000:\n",
    "            return f\"{self.nombre} {self.apellido} debe pagar impuestos, su sueldo de {self.sueldo} supera el mínimo.\"\n",
    "        else:\n",
    "            return f\"{self.nombre} {self.apellido} no debe pagar impuestos.\""
   ]
  },
  {
   "cell_type": "code",
   "execution_count": 9,
   "metadata": {},
   "outputs": [],
   "source": [
    "empleado = Empleado(\"Pedro\", \"Perez\", 5000)"
   ]
  },
  {
   "cell_type": "code",
   "execution_count": 10,
   "metadata": {},
   "outputs": [
    {
     "data": {
      "text/plain": [
       "'Pedro Perez, su sueldo es de: 5000'"
      ]
     },
     "execution_count": 10,
     "metadata": {},
     "output_type": "execute_result"
    }
   ],
   "source": [
    "empleado.obtener_nombre_completo_y_sueldo()"
   ]
  },
  {
   "cell_type": "code",
   "execution_count": 11,
   "metadata": {},
   "outputs": [
    {
     "data": {
      "text/plain": [
       "'Pedro Perez debe pagar impuestos, su sueldo de 5000 supera el mínimo.'"
      ]
     },
     "execution_count": 11,
     "metadata": {},
     "output_type": "execute_result"
    }
   ],
   "source": [
    "empleado.obtener_impuestos()"
   ]
  },
  {
   "cell_type": "code",
   "execution_count": 12,
   "metadata": {},
   "outputs": [],
   "source": [
    "##Problema 2:\n",
    "\n",
    "#Confeccionar una clase que represente un Usuario de una pagina web.\n",
    "\n",
    "#    Debe tener los atributos su nombre_de_usuario, email y password.\n",
    "#    En el método __init__ cargar los atributos (nombre_de_usuario y su password)\n",
    "#    En otro método se debe poder configurar su email\n",
    "#    Por ultimo un metodo que nos permita verificar el password del usuario"
   ]
  },
  {
   "cell_type": "code",
   "execution_count": 16,
   "metadata": {},
   "outputs": [],
   "source": [
    "class Usuario(): \n",
    "\n",
    "    nombre_de_usuario = \"\"\n",
    "    password = \"\"\n",
    "    email = \"\"\n",
    "    \n",
    "    def __init__(self, nombre_de_usuario, password):\n",
    "        self.nombre_de_usuario = nombre_de_usuario\n",
    "        self.password = password   \n",
    "    \n",
    "    def escribir_email(self):\n",
    "        print(\"Escriba su email: \")\n",
    "        self.email = input()\n",
    "    \n",
    "    def obtener_nombre_de_usuario(self):\n",
    "        return f\"{self.nombre_de_usuario}\"\n",
    "    \n",
    "    def obtener_email(self):\n",
    "        return f\"{self.email}\"\n",
    "    \n",
    "    def verificar_password(self):\n",
    "        print(\"Repita su contraseña:\")\n",
    "        contraseña = input()\n",
    "        if self.password != contraseña:\n",
    "            while self.password != contraseña:\n",
    "                print(\"La contraseña ingresada no es correcta, por favor vuelva a intentarno.\")\n",
    "                print(\"Repita su contraseña:\")\n",
    "                contraseña = input()\n",
    "            print(\"Contraseña correcta.\")    \n",
    "        else:\n",
    "            print(\"Contraseña correcta.\")"
   ]
  },
  {
   "cell_type": "code",
   "execution_count": 17,
   "metadata": {},
   "outputs": [],
   "source": [
    "usuario = Usuario(\"maoroz\", \"1234\")"
   ]
  },
  {
   "cell_type": "code",
   "execution_count": 13,
   "metadata": {},
   "outputs": [
    {
     "data": {
      "text/plain": [
       "'maoroz'"
      ]
     },
     "execution_count": 13,
     "metadata": {},
     "output_type": "execute_result"
    }
   ],
   "source": [
    "usuario.obtener_nombre_de_usuario()"
   ]
  },
  {
   "cell_type": "code",
   "execution_count": 4,
   "metadata": {},
   "outputs": [
    {
     "name": "stdout",
     "output_type": "stream",
     "text": [
      "Escriba su email: \n",
      "angelesoroz@gmail.com\n"
     ]
    }
   ],
   "source": [
    "usuario.escribir_email()"
   ]
  },
  {
   "cell_type": "code",
   "execution_count": 5,
   "metadata": {},
   "outputs": [
    {
     "data": {
      "text/plain": [
       "'angelesoroz@gmail.com'"
      ]
     },
     "execution_count": 5,
     "metadata": {},
     "output_type": "execute_result"
    }
   ],
   "source": [
    "usuario.obtener_email()"
   ]
  },
  {
   "cell_type": "code",
   "execution_count": 14,
   "metadata": {},
   "outputs": [
    {
     "name": "stdout",
     "output_type": "stream",
     "text": [
      "Repita su contraseña:\n",
      "1235\n",
      "La contraseña ingresada no es correcta, por favor vuelva a intentarno.\n",
      "Repita su contraseña:\n",
      "13333\n",
      "La contraseña ingresada no es correcta, por favor vuelva a intentarno.\n",
      "Repita su contraseña:\n",
      "1234\n"
     ]
    }
   ],
   "source": [
    "usuario.verificar_password()"
   ]
  },
  {
   "cell_type": "code",
   "execution_count": 18,
   "metadata": {},
   "outputs": [
    {
     "name": "stdout",
     "output_type": "stream",
     "text": [
      "Repita su contraseña:\n",
      "1255\n",
      "La contraseña ingresada no es correcta, por favor vuelva a intentarno.\n",
      "Repita su contraseña:\n",
      "1554\n",
      "La contraseña ingresada no es correcta, por favor vuelva a intentarno.\n",
      "Repita su contraseña:\n",
      "1234\n",
      "Contraseña correcta.\n"
     ]
    }
   ],
   "source": [
    "usuario.verificar_password()"
   ]
  }
 ],
 "metadata": {
  "kernelspec": {
   "display_name": "Python 3",
   "language": "python",
   "name": "python3"
  },
  "language_info": {
   "codemirror_mode": {
    "name": "ipython",
    "version": 3
   },
   "file_extension": ".py",
   "mimetype": "text/x-python",
   "name": "python",
   "nbconvert_exporter": "python",
   "pygments_lexer": "ipython3",
   "version": "3.7.3"
  }
 },
 "nbformat": 4,
 "nbformat_minor": 2
}
